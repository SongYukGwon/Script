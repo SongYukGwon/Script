{
 "cells": [
  {
   "cell_type": "markdown",
   "id": "287af675",
   "metadata": {},
   "source": [
    "<h1>Homework#1</h1>"
   ]
  },
  {
   "cell_type": "markdown",
   "id": "5ff9432c",
   "metadata": {},
   "source": [
    "### 문제 : \"Hello Python\"문자열을 Slicing과 연결 연산자(+)를 사용하여 \"Python Hello\"로 변경하시오."
   ]
  },
  {
   "cell_type": "code",
   "execution_count": 51,
   "id": "d006283c",
   "metadata": {},
   "outputs": [
    {
     "name": "stdout",
     "output_type": "stream",
     "text": [
      "Python Hello \n"
     ]
    }
   ],
   "source": [
    "a = \"Hello Python\"\n",
    "a = a[6:]+ ' ' + a[:6]\n",
    "print(a)"
   ]
  },
  {
   "cell_type": "markdown",
   "id": "c2d49ad9",
   "metadata": {},
   "source": [
    "#### a에 문자열 입력후 Slicing을 이용해 a[6]~마지막 문자 + 처음문자~a[6]이전까지를 연산자로 합쳐주어 문자열 변경\n",
    "<br/>\n",
    "<br/>"
   ]
  },
  {
   "cell_type": "markdown",
   "id": "f7187018",
   "metadata": {},
   "source": [
    "### 문제 : b=\"Hello Python World\" 문자열을 Slicing과 연결 연산자 (+)를 사용하여 \"World Python Hello\"로 변경하시오."
   ]
  },
  {
   "cell_type": "code",
   "execution_count": 52,
   "id": "d9caaaf5",
   "metadata": {},
   "outputs": [
    {
     "name": "stdout",
     "output_type": "stream",
     "text": [
      "World Python Hello \n"
     ]
    }
   ],
   "source": [
    "b= \"Hello Python World\"\n",
    "b = b[13:] + b[5:13] + b[:6]\n",
    "print(b)"
   ]
  },
  {
   "cell_type": "markdown",
   "id": "cf6bdfd8",
   "metadata": {},
   "source": [
    "#### 위와같이 문자열 slicing과 연산자를 이용하여 b[13]~마지막문자열 + b[5]~b[12] + b[0]~b[5] 해줌으로써 문자열 변경\n",
    "\n",
    "\n"
   ]
  },
  {
   "cell_type": "markdown",
   "id": "aca79fde",
   "metadata": {},
   "source": [
    "### 문제 : c=\"Hello\"를 \"olleH\"로 변경하시오"
   ]
  },
  {
   "cell_type": "code",
   "execution_count": 50,
   "id": "1080b9fa",
   "metadata": {},
   "outputs": [
    {
     "name": "stdout",
     "output_type": "stream",
     "text": [
      "olleH\n"
     ]
    }
   ],
   "source": [
    "c = \"Hello\"\n",
    "c = c[::-1]\n",
    "print(c)"
   ]
  },
  {
   "cell_type": "markdown",
   "id": "6e139842",
   "metadata": {},
   "source": [
    "#### 문자열 slicing을 이용하여 c[::-1]은 문자열 끝에서 -1씩하면서 처음부터 오므로 Hello가 olleH가 된다."
   ]
  },
  {
   "cell_type": "markdown",
   "id": "74cebe4e",
   "metadata": {},
   "source": [
    "### 문제 : s=\"python\"에 대해 다음 문제를 풀어보시오."
   ]
  },
  {
   "cell_type": "code",
   "execution_count": 11,
   "id": "3745ad3d",
   "metadata": {},
   "outputs": [
    {
     "name": "stdout",
     "output_type": "stream",
     "text": [
      "p p p\n"
     ]
    }
   ],
   "source": [
    "s=\"python\"\n",
    "print(s[0],s[0][0],s[0][0][0])"
   ]
  },
  {
   "cell_type": "markdown",
   "id": "4a3153f2",
   "metadata": {},
   "source": [
    "#### s[0]은 s문자열의 처음을 가리킨다, s[0][0], s[0][0][0] 또한 2차원 3차원 배열의 요소를 불러오는것으로 보이지만 해당 배열의 첫번째를 가리키는 것은 같으므로 s문자열의 처음을 가리키는 것으로 보인다.\n",
    "<br/>\n",
    "<br/>"
   ]
  },
  {
   "cell_type": "code",
   "execution_count": 54,
   "id": "2f588d59",
   "metadata": {},
   "outputs": [
    {
     "ename": "IndexError",
     "evalue": "string index out of range",
     "output_type": "error",
     "traceback": [
      "\u001b[1;31m---------------------------------------------------------------------------\u001b[0m",
      "\u001b[1;31mIndexError\u001b[0m                                Traceback (most recent call last)",
      "\u001b[1;32m<ipython-input-54-48b6a29bd022>\u001b[0m in \u001b[0;36m<module>\u001b[1;34m\u001b[0m\n\u001b[1;32m----> 1\u001b[1;33m \u001b[0mprint\u001b[0m\u001b[1;33m(\u001b[0m\u001b[0ms\u001b[0m\u001b[1;33m[\u001b[0m\u001b[1;36m100\u001b[0m\u001b[1;33m]\u001b[0m\u001b[1;33m,\u001b[0m \u001b[0ms\u001b[0m\u001b[1;33m[\u001b[0m\u001b[1;33m-\u001b[0m\u001b[1;36m100\u001b[0m\u001b[1;33m]\u001b[0m\u001b[1;33m)\u001b[0m\u001b[1;33m\u001b[0m\u001b[1;33m\u001b[0m\u001b[0m\n\u001b[0m",
      "\u001b[1;31mIndexError\u001b[0m: string index out of range"
     ]
    }
   ],
   "source": [
    "print(s[100], s[-100])"
   ]
  },
  {
   "cell_type": "markdown",
   "id": "62961d30",
   "metadata": {},
   "source": [
    "#### s[100]과 s[-100]은 해당 문자열에서 데이터가 존재하지 않는 위치를 가리키므로 오류가 출력되는것같다.\n",
    "<br/>\n",
    "<br/>"
   ]
  },
  {
   "cell_type": "code",
   "execution_count": 55,
   "id": "121bce2f",
   "metadata": {},
   "outputs": [
    {
     "ename": "TypeError",
     "evalue": "string indices must be integers",
     "output_type": "error",
     "traceback": [
      "\u001b[1;31m---------------------------------------------------------------------------\u001b[0m",
      "\u001b[1;31mTypeError\u001b[0m                                 Traceback (most recent call last)",
      "\u001b[1;32m<ipython-input-55-546a7a302598>\u001b[0m in \u001b[0;36m<module>\u001b[1;34m\u001b[0m\n\u001b[1;32m----> 1\u001b[1;33m \u001b[0mprint\u001b[0m\u001b[1;33m(\u001b[0m\u001b[0ms\u001b[0m\u001b[1;33m[\u001b[0m\u001b[1;36m100\u001b[0m\u001b[1;33m,\u001b[0m \u001b[1;33m-\u001b[0m\u001b[1;36m100\u001b[0m\u001b[1;33m]\u001b[0m\u001b[1;33m)\u001b[0m\u001b[1;33m\u001b[0m\u001b[1;33m\u001b[0m\u001b[0m\n\u001b[0m",
      "\u001b[1;31mTypeError\u001b[0m: string indices must be integers"
     ]
    }
   ],
   "source": [
    "print(s[100, -100])"
   ]
  },
  {
   "cell_type": "markdown",
   "id": "44fc3793",
   "metadata": {},
   "source": [
    "#### s[100, -100]을 처음봤을때는 위에와 같이 out of range 오류를 출력할것같았는데 애초에 s[100, -100]으로 호출할 수 없지 않나라는 생각이 들었다. 밑에 오류는 string indices must be intergers 라고 뜨는걸 봐서 python은 s[100, -100]을 호출하는 indices를 string으로 인식하여 오류를 내는것으로 보인다.\n",
    "<br/>\n",
    "<br/>"
   ]
  },
  {
   "cell_type": "code",
   "execution_count": 15,
   "id": "9af74f26",
   "metadata": {},
   "outputs": [
    {
     "name": "stdout",
     "output_type": "stream",
     "text": [
      "ytho\n"
     ]
    }
   ],
   "source": [
    "print(s[1:-1])"
   ]
  },
  {
   "cell_type": "markdown",
   "id": "5a293af3",
   "metadata": {},
   "source": [
    "#### s 문자열의 2번째 문자 y부터 마지막 전의 문자 o까지 출력하도록 문자열 slicing을 이용하여 출력시켰다.\n",
    "<br/>\n",
    "<br/>"
   ]
  },
  {
   "cell_type": "code",
   "execution_count": 56,
   "id": "47d6266c",
   "metadata": {},
   "outputs": [
    {
     "name": "stdout",
     "output_type": "stream",
     "text": [
      "\n"
     ]
    }
   ],
   "source": [
    "print(s[3:-3])"
   ]
  },
  {
   "cell_type": "markdown",
   "id": "0b0a331f",
   "metadata": {},
   "source": [
    "#### s문자열은 s = \"python\"인데 s[3] = h 이고 s[-3]은 h이다 s[3:-3]은 h부터 그전 t까지 출력하겠다는 의미로 사이에 들어있는게 없으므로 출력이 없는것으로 보인다\n",
    "<br/>\n",
    "<br/>"
   ]
  },
  {
   "cell_type": "markdown",
   "id": "00f79682",
   "metadata": {},
   "source": [
    "### for문을 활용하여 1부터 100사이의 홀수를 출력하시오."
   ]
  },
  {
   "cell_type": "code",
   "execution_count": 18,
   "id": "0f650b5d",
   "metadata": {},
   "outputs": [
    {
     "name": "stdout",
     "output_type": "stream",
     "text": [
      "1\n",
      "3\n",
      "5\n",
      "7\n",
      "9\n",
      "11\n",
      "13\n",
      "15\n",
      "17\n",
      "19\n",
      "21\n",
      "23\n",
      "25\n",
      "27\n",
      "29\n",
      "31\n",
      "33\n",
      "35\n",
      "37\n",
      "39\n",
      "41\n",
      "43\n",
      "45\n",
      "47\n",
      "49\n",
      "51\n",
      "53\n",
      "55\n",
      "57\n",
      "59\n",
      "61\n",
      "63\n",
      "65\n",
      "67\n",
      "69\n",
      "71\n",
      "73\n",
      "75\n",
      "77\n",
      "79\n",
      "81\n",
      "83\n",
      "85\n",
      "87\n",
      "89\n",
      "91\n",
      "93\n",
      "95\n",
      "97\n",
      "99\n"
     ]
    }
   ],
   "source": [
    "for i in range(1,101):\n",
    "    if i%2 == 1:\n",
    "        print(i)"
   ]
  },
  {
   "cell_type": "markdown",
   "id": "ff808aaa",
   "metadata": {},
   "source": [
    "#### for i in range(1,101)로 i에 1부터 100까지의 수를 보내주고 if문을 사용하여 만약 i를 2로 나눈것의 나머지가 1인것 즉 홀수인것을 출력하도록 만들었습니다.\n",
    "<br/>\n",
    "<br/>"
   ]
  },
  {
   "cell_type": "markdown",
   "id": "3a19270c",
   "metadata": {},
   "source": [
    "### 문제 : while문을 활용하여 1부터 100사이의 짝수의 합을 계산하여 출력하시오."
   ]
  },
  {
   "cell_type": "code",
   "execution_count": 57,
   "id": "b67759a6",
   "metadata": {},
   "outputs": [
    {
     "name": "stdout",
     "output_type": "stream",
     "text": [
      "5050\n"
     ]
    }
   ],
   "source": [
    "i= 100\n",
    "sum =0\n",
    "while(i !=0):\n",
    "    sum+= i\n",
    "    i = i -1\n",
    "print(sum)"
   ]
  },
  {
   "cell_type": "markdown",
   "id": "752ac8ce",
   "metadata": {},
   "source": [
    "#### i를 100으로 초기화하고 while문을 0이 아닐동안 반복시킨뒤 sum에 i를 하나씩 줄여가며 더하기를 시켜 100부터 1까지 더하도록 만들었습니다.\n",
    "<br/>\n",
    "<br/>"
   ]
  },
  {
   "cell_type": "markdown",
   "id": "d8352cb2",
   "metadata": {},
   "source": [
    "### 문제 : 사용자로 부터 임의의 정수를 입력받고, 해당 숫자를 역순으로 출력하는 프로그램을 작성하시오."
   ]
  },
  {
   "cell_type": "code",
   "execution_count": 21,
   "id": "e8652c19",
   "metadata": {},
   "outputs": [
    {
     "name": "stdout",
     "output_type": "stream",
     "text": [
      "정수를 입력하세요 : 1234\n",
      "숫자 역순은 4321 입니다\n"
     ]
    }
   ],
   "source": [
    "number = input(\"정수를 입력하세요 : \")\n",
    "print(\"숫자 역순은\",number[::-1], \"입니다\")"
   ]
  },
  {
   "cell_type": "markdown",
   "id": "7f84e1bd",
   "metadata": {},
   "source": [
    "#### input을 이용하여 number에 입력받은 숫자를 저장시킨뒤 slicing을 이용하여 [::-1](거꾸로출력)으로 역순으로 출력하도록 만들었습니다.\n",
    "<br/>\n",
    "<br/>"
   ]
  },
  {
   "cell_type": "markdown",
   "id": "477e7b9a",
   "metadata": {},
   "source": [
    "### 문제 : 사용자로 부터 정수를 입력받아서 1부터 그 사이에 존재하는 소수 (Prime number)를 출력하는 파이썬 프로그램을 작성하시오."
   ]
  },
  {
   "cell_type": "code",
   "execution_count": 22,
   "id": "2e9874d2",
   "metadata": {},
   "outputs": [
    {
     "name": "stdout",
     "output_type": "stream",
     "text": [
      "정수를 입력하세요 : 30\n",
      "2\n",
      "3\n",
      "5\n",
      "7\n",
      "11\n",
      "13\n",
      "17\n",
      "19\n",
      "23\n",
      "29\n"
     ]
    }
   ],
   "source": [
    "number1 = int(input(\"정수를 입력하세요 : \"))\n",
    "for i in range(2,number1):\n",
    "    check = 0\n",
    "    for j in range(2,i):\n",
    "        if i%j == 0:\n",
    "            check =1\n",
    "    if check == 0:\n",
    "        print(i)"
   ]
  },
  {
   "cell_type": "markdown",
   "id": "0b901bee",
   "metadata": {},
   "source": [
    "#### int(input())으로 사용자에게 정수를 입력받고 int형으로 변환시킨뒤 number1에 저장\n",
    "#### for문을 사용하여 소수는 2부터 가능하므로 range(2, number1)로 number 직전까지 진행하도록 한뒤 2와 number1사이에 있는 숫자가 나눠지는 숫자가 있는지 for j in range(2,i)로 확인하여 있다면 check에 1을 넣어주면서 마지막에 check가 0이면 소수이므로 출력하도록 만들었습니다.\n",
    "<br/>\n",
    "<br/>"
   ]
  },
  {
   "cell_type": "markdown",
   "id": "04d0f6b7",
   "metadata": {},
   "source": [
    "### 문제 : 사용자로 부터 대문자로 이루어진 string S를 입력받고, 승자와 그의 점수를 출력하는 프로그램을 작성하시오."
   ]
  },
  {
   "cell_type": "code",
   "execution_count": 23,
   "id": "6cdab5e8",
   "metadata": {},
   "outputs": [
    {
     "name": "stdout",
     "output_type": "stream",
     "text": [
      "string s를 입력하세요:BANANA\n",
      "승자 : Stuart 점수 :  12\n"
     ]
    }
   ],
   "source": [
    "s = input(\"string s를 입력하세요:\")\n",
    "\n",
    "check = [\"I\",\"E\",\"A\",\"U\", \"O\"]\n",
    "stuart = 0\n",
    "kevin = 0\n",
    "\n",
    "for i in range(len(s)):\n",
    "    if s[i] in check:\n",
    "        for j in range(len(s[i:])):\n",
    "            kevin = kevin +1\n",
    "    else:\n",
    "        for j in range(len(s[i:])):\n",
    "            stuart = stuart +1\n",
    "            \n",
    "if kevin > stuart:\n",
    "    print(\"승자 : Kevin 점수 : \", kevin)\n",
    "elif stuart > kevin :\n",
    "    print(\"승자 : Stuart 점수 : \", stuart)\n",
    "else:\n",
    "    print(\"무승부\")\n"
   ]
  },
  {
   "cell_type": "markdown",
   "id": "b2262c74",
   "metadata": {},
   "source": [
    "#### 먼저 check에 영어 알파벳의 모음을 넣어준다.\n",
    "#### 입력받은 문자열을 하나하나 뜯어서 만약 그것이 check안에 있다면 그 뒤에 올수있는 알파벳 수만큼 점수가 더해지므로 for문으로 해당글자와 그뒤에있는 수만큼 kevin에게 더해준다 아니라면 똑같이 stuart에게 더해준다.\n",
    "#### 마지막에 점수가 더높은쪽이 승리하고 점수를 표시해준다. 만약같다면 무승부라고 출력한다.\n",
    "<br/>\n",
    "<br/>"
   ]
  },
  {
   "cell_type": "markdown",
   "id": "705dffd8",
   "metadata": {},
   "source": [
    "### 문제 : 두 개의 string, s와 t, 그리고 정수 k가 주어질 때, 정확히 k번의 연산을 통해 s를 t로 바꿀 수 있는지 판단하는 함수를 작성하시오."
   ]
  },
  {
   "cell_type": "code",
   "execution_count": 68,
   "id": "02dd798b",
   "metadata": {},
   "outputs": [
    {
     "name": "stdout",
     "output_type": "stream",
     "text": [
      "s = hackerhappy      t = hackerrank      k = 9 = > Yes\n",
      "s = aba              t = aba             k = 7 = > Yes\n",
      "s = ashley           t = ash             k = 2 = > No\n"
     ]
    }
   ],
   "source": [
    "def appendDelete(s, t, k):\n",
    "    cnt=0\n",
    "    if((k > 2*len(s)) & (k > 2*len(t))):\n",
    "        return \"Yes\"\n",
    "    else:\n",
    "        if (s == t): #처음 s와 t가 같을때 k로 딱맞출수있는지 확인\n",
    "            if k%2 == 0:\n",
    "                return 'Yes'\n",
    "            else:\n",
    "                if(len(t)<=(k/2)):\n",
    "                    return 'Yes'\n",
    "                else:\n",
    "                    return 'No'\n",
    "        else:\n",
    "            if len(s) < len(t): #t가 더크면 더큰부분제거\n",
    "                    for i in range(len(t) - len(s)):\n",
    "                        t = t[:-1]\n",
    "                        cnt = cnt+1\n",
    "            check = 0\n",
    "            for i in range(len(t)):\n",
    "                if s[i] == t[i]:\n",
    "                    continue\n",
    "                else:\n",
    "                    check = i\n",
    "                    break\n",
    "            if check == 0:\n",
    "                check = len(t)\n",
    "            for i in range(len(t)-check):\n",
    "                t = t[:-1]\n",
    "                cnt = cnt+1\n",
    "            for i in s[check:]:\n",
    "                t = t+i\n",
    "                cnt = cnt+1\n",
    "    if cnt == k:\n",
    "        return \"Yes\"\n",
    "    else:\n",
    "        return \"No\"\n",
    "s = 'hackerhappy'\n",
    "t = 'hackerrank'\n",
    "k = 9\n",
    "print(f\"s = {s}      t = {t}      k = {k} = >\",appendDelete(s,t,k))\n",
    "s = 'aba'\n",
    "t = 'aba'\n",
    "k= 7\n",
    "print(f\"s = {s}              t = {t}             k = {k} = >\",appendDelete(s,t,k))\n",
    "s = 'ashley'\n",
    "t = 'ash'\n",
    "k = 2\n",
    "print(f\"s = {s}           t = {t}             k = {k} = >\",appendDelete(s,t,k))"
   ]
  },
  {
   "cell_type": "markdown",
   "id": "2ecf7f24",
   "metadata": {},
   "source": [
    "#### 먼저 문자열과 k가 주어졌을때 k가 압도적으로 많을 경우 바꾸지 않고 결과 yes 리턴후 출력\n",
    "#### 문자열이 같을경우 k가 짝수면 yes 홀수면 문자열 길이보다 길어야 yes 아니면 no 리턴후 출력\n",
    "#### 바꿔야할 문자열(t)이 더길면 t를 먼저 s길이만큼 잘라주면서 count 추가\n",
    "#### s가 t보다 길이가 길거나 같아지면 s와 t를 비교후 앞에서부터 틀린부분의 위치를 추적.\n",
    "#### 위치가 발견되면 그 위치부터 끝까지 제거후 s와 맞게 추가하면서 count추가\n",
    "#### check를 이용해서 만약 위치가 발견되지 않는다면 check의 값은 t의 길이를 가지게 되어 끝부분부터 추가할수 있도록 함.\n",
    "#### check값이 len(t)와 같거나 크면 제거하는 for문은 실행되지 않고 추가하는 for문만 실행\n",
    "#### 마지막으로 count와 k가 맞는지 확인후 k와 count가 맞으면 yes 아니면 no 리턴후 출력\n",
    "<br/>\n",
    "<br/>"
   ]
  },
  {
   "cell_type": "markdown",
   "id": "c52f7f46",
   "metadata": {},
   "source": [
    "## 소감\n",
    "#### 숙제를 하는데 있어서 마지막 문제를 제외하고는 별탈이 없었습니다. string의 slicing을 여러 방면으로 활용하는 것에서 이렇게 까지 쓸수도 있구나 라는 것을 느꼈습니다. 마지막 문제는 보자마자 이걸 어떻게 풀지.... 라는 생각밖에 안들었는데, 막상 머리를 들이밀자 좀 시간이 걸리더라도 해결하는 저를 보면서 뿌듯함을 느꼈습니다. 기본적인 것만을 배웠는데 활용하는 저를 보며 보람을 느꼈고, 앞으로 열심히 해야겠다는 생각을 하게 되었습니다. 감사합니다."
   ]
  },
  {
   "cell_type": "code",
   "execution_count": null,
   "id": "a85a64c9",
   "metadata": {},
   "outputs": [],
   "source": []
  }
 ],
 "metadata": {
  "kernelspec": {
   "display_name": "Python 3",
   "language": "python",
   "name": "python3"
  },
  "language_info": {
   "codemirror_mode": {
    "name": "ipython",
    "version": 3
   },
   "file_extension": ".py",
   "mimetype": "text/x-python",
   "name": "python",
   "nbconvert_exporter": "python",
   "pygments_lexer": "ipython3",
   "version": "3.8.8"
  }
 },
 "nbformat": 4,
 "nbformat_minor": 5
}
