{
 "cells": [
  {
   "cell_type": "markdown",
   "id": "82a10072",
   "metadata": {},
   "source": [
    "# Assignment 4"
   ]
  },
  {
   "cell_type": "markdown",
   "id": "bed5f341",
   "metadata": {},
   "source": [
    "## 2018136054 송육권"
   ]
  },
  {
   "cell_type": "markdown",
   "id": "afc5d2b9",
   "metadata": {},
   "source": [
    "\n",
    "### 1. 다음 문제를 읽고 알맞은 코드를 제시하시오."
   ]
  },
  {
   "cell_type": "markdown",
   "id": "8fd49a68",
   "metadata": {},
   "source": [
    "#### 1)파일 s.txt 내의 다음 내용과 함께 아래 문제의 코드를 제시하시오.\n",
    "pig ham\n",
    "\n",
    "cat dog\n",
    "\n",
    "ham bird\n",
    "\n",
    "dog pig"
   ]
  },
  {
   "cell_type": "markdown",
   "id": "c09ac614",
   "metadata": {},
   "source": [
    "### 2) 파일 s.txt을 읽어서 각 라인에 있는 첫 번째 단어(문자열) 자체들을 기준으로 라인별 정렬후 파일 s1.txt에 그 결과를 기록하는 코드를 작성하시오. 즉, 프로그램 수행 후 s1.txt에 있는 파일 내용은 다음과 같다."
   ]
  },
  {
   "cell_type": "code",
   "execution_count": 2,
   "id": "1342913f",
   "metadata": {},
   "outputs": [
    {
     "name": "stdout",
     "output_type": "stream",
     "text": [
      "cat dog\n",
      "dog pig\n",
      "ham bird\n",
      "pig ham\n"
     ]
    }
   ],
   "source": [
    "import os\n",
    "\n",
    "with open('s.txt', 'r') as f:\n",
    "    words = f.readlines()\n",
    "    words.sort()\n",
    "    for i in words:\n",
    "        i = i.strip(\"\\n\")\n",
    "        print(i)\n",
    "    "
   ]
  },
  {
   "cell_type": "markdown",
   "id": "4d6e7a19",
   "metadata": {},
   "source": [
    "os를 import하여 파일 입출력도록 만들고 open으로 파일을 열었습니다. words에 readlines로 문자열들을 리스트로 받은위 sort로 오름차순으로 정렬되도록 만들었습니다. 마지막으로 for문을 통해 문자열을 하나씩 받아 strip('\\n')으로 문자열에 있는 \\n들을 없애준뒤 출력하도록 하였습니다."
   ]
  },
  {
   "cell_type": "markdown",
   "id": "66851bee",
   "metadata": {},
   "source": [
    "### 3) 파일 s.txt을 읽어서 각 라인에 있는 두 번째 단어(문자열) 자체들을 기준으로 라인별 정렬후 파일 s2.txt에 그 결과를 기록하는 코드를 작성하시오. 즉, 프로그램 수행 후 s2.txt에 있는 파일 내용은 다음과 같다."
   ]
  },
  {
   "cell_type": "code",
   "execution_count": 3,
   "id": "2a995894",
   "metadata": {},
   "outputs": [
    {
     "name": "stdout",
     "output_type": "stream",
     "text": [
      "ham bird\n",
      "cat dog\n",
      "pig ham\n",
      "dog pig\n"
     ]
    }
   ],
   "source": [
    "li = []\n",
    "with open('s.txt', 'r') as f:\n",
    "    words = f.readlines()\n",
    "    for i in words:\n",
    "        i = i.strip(\"\\n\")\n",
    "        rword, lword = i.split()\n",
    "        li.append([rword, lword])\n",
    "    li.sort(key=lambda x : x[1])\n",
    "    for i in li:\n",
    "        tmp = \"\"\n",
    "        tmp = i[0]+ ' ' + i[1]\n",
    "        print(tmp)"
   ]
  },
  {
   "cell_type": "markdown",
   "id": "3bb2bf96",
   "metadata": {},
   "source": [
    "파일객체에서 readlines()로 문자열들을 리스트에 저장한뒤 하나씩 불러워 strip으로 개행문자를 없애주고 split을 이용하여 각 문자열을 분리시켜 주었다.\n",
    "그뒤 문자열을 분리시켜준것을 2차원 리스트 형태로 저장한뒤 뒤에있는 단어를 기준으로 sort를 해주었다.\n",
    "그후 형식에 맞춰 출력을 해주었다."
   ]
  },
  {
   "cell_type": "markdown",
   "id": "18fc9917",
   "metadata": {},
   "source": [
    "### 4) 파일 s.txt을 읽어서 각 라인들에 있는 모든 단어들을 순차적으로 다시 나열하되 각 라인에 세 개의 단어들이 오도록 하여 s3.txt에 기록하는 코드를 작성하시오. 즉, 프로그램 수행 후 s3.txt에 있는 파일 내용은 다음과 같다."
   ]
  },
  {
   "cell_type": "code",
   "execution_count": 4,
   "id": "7ad57bb3",
   "metadata": {},
   "outputs": [
    {
     "name": "stdout",
     "output_type": "stream",
     "text": [
      "pig ham cat \n",
      "dog ham bird \n",
      "dog pig \n"
     ]
    }
   ],
   "source": [
    "with open('s.txt', 'r') as f:\n",
    "    words = f.read()\n",
    "    a = words.split()\n",
    "    sens = []\n",
    "    count = 0\n",
    "    tmp = \"\"\n",
    "    for i in a:\n",
    "        tmp += i + ' '\n",
    "        count += 1\n",
    "        if(count == 3):\n",
    "            count = 0\n",
    "            tmp +='\\n'\n",
    "\n",
    "\n",
    "with open('s3.txt', 'w') as f:\n",
    "    f.write(tmp)\n",
    "    \n",
    "with open('s3.txt', 'r') as f:\n",
    "    words = f.read()\n",
    "    print(words)\n",
    "    "
   ]
  },
  {
   "cell_type": "markdown",
   "id": "588d3f15",
   "metadata": {},
   "source": [
    "파일 객체에서 전체 문자열을 읽은다음 split으로 단어들을 나누어준뒤 하나씩 받아 3개의 단어를 문자열에 저장할때마다 개행문자를 넣어주었다.\n",
    "그뒤 s3.txt라는 파일을 w모드로 파일객체로 만들어준다 write를 사용하여 입력시켜주었다.\n",
    "마지막 파일객체는 저장된것을 보여주기 위하여 만들었다."
   ]
  },
  {
   "cell_type": "markdown",
   "id": "f8b19591",
   "metadata": {},
   "source": [
    "## 2.다음과 같은 조건들을 참고하여 회원 가입 및 로그인 프로그램을 작성하시오.\n",
    "### 1) 프로그램 시작 후 다음과 같은 메시지가 출력되어 1, 2, 3 중 하나의 값을 입력 받도록 한다.\n",
    "Welcome to Our Service\n",
    "\n",
    "A.Sign Up\n",
    "\n",
    "B.Sign In\n",
    "\n",
    "C.Quit"
   ]
  },
  {
   "cell_type": "markdown",
   "id": "b2ef297e",
   "metadata": {},
   "source": [
    "### 2) 1을 선택하면 ID, Password, Name, School의 4가지 정보를 입력받아 파일에 저장하는 프로그램을 작성한다.\n",
    "#### 2-1) 입력된 내용은 access.txt 라는 이름의 텍스트 파일 내에 저장된다.\n",
    "#### 2-2) access.txt 파일의 각 라인에는 가입된 회원 각각의 정보가 \"[id]: [password], [name], [school]\" 형태로 저장된다.\n",
    "#### 2-3) 즉, 가입 회원이 10명이면 access.txt 파일 내에 라인 수도 정확히 10개이다.\n",
    "#### 2-4) 암호화 방식은 sha 모듈을 활용한다. sha 모듈 활용 방법은 본 문제의 마지막에 제시된 sha 활용 예를 참고한다.\n",
    "#### 즉, access.txt 파일 내에 password 정보는 암호화 되어 저장되어야 한다.\n",
    "#### 2-5) 회원 정보를 입력 받을 때 id를 입력 받은 직후 access.txt를 확인하여 이미 존재하는 id가 입력되었다면 다음 메시지를 출력하고 id 정보를 다시 입력받는다.\n",
    "Sorry, the entered ID is already used.\n",
    "\n",
    "#### 3) 2를 선택하면 ID, Password의 2가지 정보를 입력받는 프로그램을 작성한다.\n",
    "#### 3-1) 입력된 ID 정보가 access.txt에 존재하지 않으면 다음과 같은 메시지를 출력하고 다시 입력받는다.\n",
    "Sorry, you are not a registered member.\n",
    "#### 3-2) 입력된 ID가 올바르게 존재하지만 Password 정보가 access.txt 파일에 있는 정보와 불일치하면 다음과 같은 메시지를 출력하고 Password를 다시 입력받는다.\n",
    "Sorry, the entered password is not correct.\n",
    "이 때에도 사용자가 입력한 Password 정보와 함께 sha 모듈이 활용되어야 한다.\n",
    "#### 3-3) 입력된 ID와 Password가 모두 올바르면 다음과 같은 메시지를 출력한다.\n",
    "Hello [name]!\n",
    "위 [name]에는 access.txt에 기록되어 있는 name 정보를 출력한다.\n",
    "#### 4) 3을 선택하면 프로그램이 끝난다."
   ]
  },
  {
   "cell_type": "code",
   "execution_count": 6,
   "id": "f96a5873",
   "metadata": {},
   "outputs": [
    {
     "name": "stdout",
     "output_type": "stream",
     "text": [
      "========================\n",
      "Welcome to Our Service\n",
      "A. Sign Up\n",
      "B. Sign In\n",
      "C. Quit\n",
      "========================\n",
      "1\n",
      "ID : abcd\n",
      "Password : 1234\n",
      "암호화된 비밀번호 :  7110eda4d09e062aa5e4a390b0a572ac0d2c0220\n",
      "Name : 송육권\n",
      "School : 한기대\n",
      "========================\n",
      "Welcome to Our Service\n",
      "A. Sign Up\n",
      "B. Sign In\n",
      "C. Quit\n",
      "========================\n",
      "1\n",
      "ID : abcd\n",
      "Sorry, the entered ID is already used.\n",
      "ID : ccc\n",
      "Password : 566\n",
      "암호화된 비밀번호 :  ceab25abfedcba417c7cade07076c93c1cdacc44\n",
      "Name : 홍길동\n",
      "School : 하기기\n",
      "========================\n",
      "Welcome to Our Service\n",
      "A. Sign Up\n",
      "B. Sign In\n",
      "C. Quit\n",
      "========================\n",
      "2\n",
      "ID : aaa\n",
      "Sorry, you are not a registered member\n",
      "ID : abcd\n",
      "Password : 333\n",
      "Sorry, the entered password is not correct\n",
      "Password : 1234\n",
      "Hello 송육권 !\n",
      "========================\n",
      "Welcome to Our Service\n",
      "A. Sign Up\n",
      "B. Sign In\n",
      "C. Quit\n",
      "========================\n",
      "2\n",
      "ID : ccc\n",
      "Password : 566\n",
      "Hello 홍길동 !\n",
      "========================\n",
      "Welcome to Our Service\n",
      "A. Sign Up\n",
      "B. Sign In\n",
      "C. Quit\n",
      "========================\n",
      "3\n",
      "종료합니다.\n"
     ]
    }
   ],
   "source": [
    "import hashlib\n",
    "\n",
    "\n",
    "\n",
    "def menu_1():\n",
    "    try:\n",
    "        with open(\"access.txt\", \"r+\") as f:\n",
    "            db = f.readlines()\n",
    "            Id = input(\"ID : \")\n",
    "            for i in db:\n",
    "                db_id = i.split(\":\")\n",
    "                if(db_id[0] == Id):\n",
    "                    print(\"Sorry, the entered ID is already used.\")\n",
    "                    menu_1()\n",
    "                    return\n",
    "            password_plain = input(\"Password : \")\n",
    "            password_encrypted = hashlib.sha1(password_plain.encode()).hexdigest()\n",
    "            print(\"암호화된 비밀번호 : \", password_encrypted) #암호화 됐는지 출력\n",
    "            name = input(\"Name : \")\n",
    "            school = input(\"School : \")\n",
    "            tmp = \"{}: {}, {}, {}\\n\".format(Id, password_encrypted, name, school)\n",
    "            f.write(tmp)\n",
    "    except:\n",
    "        with open(\"access.txt\", \"w\") as f:\n",
    "            menu_1()\n",
    "            return\n",
    "def menu_2():\n",
    "    with open(\"access.txt\", \"r\") as f:\n",
    "        db = f.readlines()\n",
    "        check=0\n",
    "        Id = input(\"ID : \")\n",
    "        for i in db:\n",
    "            line = i.split(\":\")\n",
    "            sen = line[1].split()\n",
    "            sen[0] = sen[0].strip(', ')\n",
    "            sen[1] = sen[1].strip(', ')\n",
    "            if (line[0] == Id):\n",
    "                check = 1\n",
    "                break\n",
    "        if check == 0:\n",
    "            print(\"Sorry, you are not a registered member\")\n",
    "            menu_2()\n",
    "            return\n",
    "        else:\n",
    "            while(True):\n",
    "                password_plain = input(\"Password : \")\n",
    "                password_encrypted = hashlib.sha1(password_plain.encode()).hexdigest()\n",
    "                if(sen[0] == password_encrypted):\n",
    "                    print(\"Hello\", sen[1],\"!\")\n",
    "                    break\n",
    "                else:\n",
    "                    print(\"Sorry, the entered password is not correct\")\n",
    "while(True):\n",
    "    print(\"========================\")\n",
    "    print(\"Welcome to Our Service\")\n",
    "    print(\"A. Sign Up\")\n",
    "    print(\"B. Sign In\")\n",
    "    print(\"C. Quit\")\n",
    "    print(\"========================\")\n",
    "    answer = int(input())\n",
    "    if(answer == 1):\n",
    "        menu_1()\n",
    "    elif(answer == 2):\n",
    "        menu_2()\n",
    "    elif(answer == 3):\n",
    "        print(\"종료합니다.\")\n",
    "        break;\n",
    "    else:\n",
    "        print(\"error\")"
   ]
  },
  {
   "cell_type": "markdown",
   "id": "37570d7d",
   "metadata": {},
   "source": [
    "### "
   ]
  },
  {
   "cell_type": "markdown",
   "id": "53d07aa9",
   "metadata": {},
   "source": [
    "#### *초반 중간에 이상한 값은 암호화 됐다는것을 보여주기 위해 출력하도록 하였습니다.\n",
    "#### **sha모듈 설치가 안되어 과제에 게시되어있는 hashlib모듈을 사용하도록 하였습니다.\n",
    "\n",
    "1. 먼저 while문을 통하여 무한반복으로 프로그램을 계속 실행 시키도록 만들었다.\n",
    "2. 그다음 메뉴를 출력하고 사용자에게 숫자 입력을 요청한다.\n",
    "3. 사용자가 1을 입력하면 menu1 함수를 호출한다.\n",
    "4. menu1함수에서는 사용자에게 아이디, 패스워드, 이름, 학교의 정보를 요청하고 여기서 만약에 파일이 없다면 try문으로 에러를 잡아주어 파일을 만들어 쓸수 있도록 해주었다. 만약 정상적으로 파일이 있다면 패스워드를 암호화하여 포멧에 맞춰 파일에 써주었다.\n",
    "5. 파일에 쓰기전에 만약 아이디를 만들때 해당 아이디가 이미 파일내에 있다면 menu1함수를 다시호출하고 return하도록하여 사용자에게 다시 정보 요청을 하도록 만들었다.\n",
    "6. 사용자가 2을 입력하면 munu2 함수를 호출한다.\n",
    "7. menu2에서는 사용자에게 아이디와 비밀번호를 입력을 요구하여 파일에 있는 내용과 비교한다.\n",
    "8. 아이디가 맞지않으면 사용자가 존재하지 않는다고 뜨고 패스워드가 맞지 않으면 패스워드가 맞지않다고 출력하고 즉시 입력을 다시 요청하도록 하였다..\n",
    "9. 만약 아이디와 패스워드가 파일내에 있는것과 일치한다면 사용자에게 로그인되었다고 출력하도록 하였다.\n",
    "10. 사용자가 3번을 입력하면 while문을 종료시키도록하여 프로그램이 끝나도록 만들었다."
   ]
  },
  {
   "cell_type": "code",
   "execution_count": 7,
   "id": "36fcdce9",
   "metadata": {},
   "outputs": [
    {
     "name": "stdout",
     "output_type": "stream",
     "text": [
      "2\n"
     ]
    }
   ],
   "source": [
    "with open(\"access.txt\", \"r+\") as f:\n",
    "    db = f.readlines()\n",
    "    print(len(db))"
   ]
  },
  {
   "cell_type": "markdown",
   "id": "0ec64b44",
   "metadata": {},
   "source": [
    "위 구문은 이문제에서 아이디를2개만들었는데 파일내 문자열이 2개만들어주었다는 것을 확인시켜주기 위해 작성하였다."
   ]
  },
  {
   "cell_type": "markdown",
   "id": "e283643c",
   "metadata": {},
   "source": [
    "### 3.range() 함수와 유사한 frange() 함수를 다음 조건을 참고하여 만드시오.\n",
    "\n",
    "1) frange()의 인자 구성은 다음과 같이 range와 동일하지만 각 인수들은 음수를 받지 않는다고 가정한다.\n",
    "\n",
    "    range(stop)\n",
    "    range(start, stop[, step])\n",
    "\n",
    "2) frange() 함수의 인자에 대한 기본 시작(start) 값은 0.0이고, 기본 단계(step) 값은 0.1이다.\n",
    "\n",
    "3) frange 사용 예\n",
    "\n",
    "    3-1) frange(0.5)\n",
    "    \n",
    "    [0.0, 0.1, 0.2, 0.3, 0.4]\n",
    "    \n",
    "    3-2) frange(1.0, 2.0)\n",
    "    \n",
    "    [1.0, 1.1, 1.2, 1.3, 1.4, 1.5, 1.6, 1.7, 1.8, 1.9]\n",
    "    \n",
    "    3-3) frange(2.2, 4.0, 0.5)\n",
    "    \n",
    "    [2.2, 2.7, 3.2, 3.7]"
   ]
  },
  {
   "cell_type": "code",
   "execution_count": 8,
   "id": "0ee315ad",
   "metadata": {},
   "outputs": [
    {
     "name": "stdout",
     "output_type": "stream",
     "text": [
      "[0.0, 0.1, 0.2, 0.3, 0.4]\n",
      "[1.0, 1.1, 1.2, 1.3, 1.4, 1.5, 1.6, 1.7, 1.8, 1.9]\n",
      "[2.2, 2.7, 3.2, 3.7]\n"
     ]
    }
   ],
   "source": [
    "def frange(start, stop = -1, step = 0.1):\n",
    "    if stop == -1: # frange(stop)\n",
    "        stop = start\n",
    "        start = 0.0\n",
    "    result = []\n",
    "    while(start<stop):\n",
    "        result.append(round(start,5))\n",
    "        start = start + step\n",
    "    return result\n",
    "\n",
    "print(frange(0.5))\n",
    "print(frange(1.0, 2.0))\n",
    "print(frange(2.2, 4.0, 0.5))"
   ]
  },
  {
   "cell_type": "markdown",
   "id": "59ec931f",
   "metadata": {},
   "source": [
    "1. 먼저 frange함수는 start stop step순으로 받기로 하였다.\n",
    "\n",
    "2. 만약 frange의 인수를 1개만 받는다면 그 인수는 stop의 역할이므로 if문에서 stop에 아무것도 받지않으면 -1인것을 확인하여 stop을 받은 인수값으로 start은 기본값인 0으로 하였다.\n",
    "\n",
    "3. while문을 통해 start가 stop을 넘지않을 동안 반복하도록 하였다.\n",
    "\n",
    "4. while문 안에서는 result리스트에게 값을 step에따라 하나씩 넣어주도록하고 마지막에 리스트를 반환하도록 하였다."
   ]
  },
  {
   "cell_type": "markdown",
   "id": "c5f79889",
   "metadata": {},
   "source": [
    "### 4. 가변인수를 받는 함수 sum()을 다음과 같은 조건을 참고하여 구현하시오\n",
    "\n",
    "sum() 사용 예\n",
    "\n",
    "sum()\n",
    "0\n",
    "\n",
    "sum(1, 2)\n",
    "3\n",
    "\n",
    "sum(1, 2, 3, 4, 5)\n",
    "15\n",
    "\n",
    "sum(1, 5, 7, 2, -10)\n",
    "5"
   ]
  },
  {
   "cell_type": "code",
   "execution_count": 4,
   "id": "63e24f45",
   "metadata": {},
   "outputs": [
    {
     "name": "stdout",
     "output_type": "stream",
     "text": [
      "0\n",
      "3\n",
      "15\n",
      "5\n"
     ]
    }
   ],
   "source": [
    "def sum(*args):\n",
    "    a = 0\n",
    "    for i in args:\n",
    "        a+=i\n",
    "    return a\n",
    "\n",
    "print(sum())\n",
    "print(sum(1,2))\n",
    "print(sum(1,2,3,4,5))\n",
    "print(sum(1,5,7,2,-10))"
   ]
  },
  {
   "cell_type": "markdown",
   "id": "91f90986",
   "metadata": {},
   "source": [
    "1. sum(*args)를 선언해주어 sum함수가 가변인수를 받을 수 있도록 선언해주었다.\n",
    "2. 처음에는 sum(args)로하여 내장함수를 사용하여 리턴시킬려고 하였으나 내장함수가 아닌 새로 정의한 함수로 인식하여 에러가 발생했다.\n",
    "3. 그래서 args에서 하나씩받아 다 더한뒤 리턴하도록 만들어 주었다."
   ]
  },
  {
   "cell_type": "markdown",
   "id": "8cb1744b",
   "metadata": {},
   "source": [
    "### 5. 여러 단어로 이루어진 문자열을 입력받아 각 단어의 첫글자로 이루어진 단어를 대문자로 출력하는 myinitial() 함수를 다음 조건을 참고하여 작성하시오.\n",
    "\n",
    "#### 1) 다음에 제시되는 함수들을 모두 이용해야 한다.\n",
    "\n",
    "split\n",
    "map\n",
    "join\n",
    "#### 2) myinitial() 함수 사용 예\n",
    "\n",
    "myinitial(\"as soon as possible\")\n",
    "ASAP"
   ]
  },
  {
   "cell_type": "code",
   "execution_count": 14,
   "id": "5295b6b9",
   "metadata": {},
   "outputs": [
    {
     "name": "stdout",
     "output_type": "stream",
     "text": [
      "ASAP\n"
     ]
    }
   ],
   "source": [
    "def myinitial(sen):\n",
    "    words = sen.split()\n",
    "    up_words = list(map(lambda x : x.capitalize()[0], words))\n",
    "    result = \"\".join(up_words)\n",
    "    print(result)\n",
    "    \n",
    "myinitial(\"as soon as possible\")"
   ]
  },
  {
   "cell_type": "markdown",
   "id": "4d5dba9f",
   "metadata": {},
   "source": [
    "1. myinitial()함수를 만들어주고 문자열을 받는다.\n",
    "2. split으로 문자열을 문자의 리스트로 만들어 준다.\n",
    "3. map함수와 lambda, capitalize를 사용하여 단어를 capitalize시켜준뒤 그의 앞글자를 가지는 리스트를 만들어준다.\n",
    "4. join함수를 사용하여 각단어의 첫글자로 이루어진 단어를 출력하도록 만들었다."
   ]
  },
  {
   "cell_type": "markdown",
   "id": "4daf883d",
   "metadata": {},
   "source": [
    "### 6.음이 아닌 정수 n를 입력받으면 n! (factorial)을 계산하는 myfact() 함수를 재귀적 함수로 구현하시오.\n",
    "[옵션] 참을 수 있는 정도 만큼의 수행시간을 직접 기다려보면서 n을 늘려보도록 합시다."
   ]
  },
  {
   "cell_type": "code",
   "execution_count": 10,
   "id": "da9bafb4",
   "metadata": {},
   "outputs": [
    {
     "name": "stdout",
     "output_type": "stream",
     "text": [
      "24\n",
      "120\n",
      "402387260077093773543702433923003985719374864210714632543799910429938512398629020592044208486969404800479988610197196058631666872994808558901323829669944590997424504087073759918823627727188732519779505950995276120874975462497043601418278094646496291056393887437886487337119181045825783647849977012476632889835955735432513185323958463075557409114262417474349347553428646576611667797396668820291207379143853719588249808126867838374559731746136085379534524221586593201928090878297308431392844403281231558611036976801357304216168747609675871348312025478589320767169132448426236131412508780208000261683151027341827977704784635868170164365024153691398281264810213092761244896359928705114964975419909342221566832572080821333186116811553615836546984046708975602900950537616475847728421889679646244945160765353408198901385442487984959953319101723355556602139450399736280750137837615307127761926849034352625200015888535147331611702103968175921510907788019393178114194545257223865541461062892187960223838971476088506276862967146674697562911234082439208160153780889893964518263243671616762179168909779911903754031274622289988005195444414282012187361745992642956581746628302955570299024324153181617210465832036786906117260158783520751516284225540265170483304226143974286933061690897968482590125458327168226458066526769958652682272807075781391858178889652208164348344825993266043367660176999612831860788386150279465955131156552036093988180612138558600301435694527224206344631797460594682573103790084024432438465657245014402821885252470935190620929023136493273497565513958720559654228749774011413346962715422845862377387538230483865688976461927383814900140767310446640259899490222221765904339901886018566526485061799702356193897017860040811889729918311021171229845901641921068884387121855646124960798722908519296819372388642614839657382291123125024186649353143970137428531926649875337218940694281434118520158014123344828015051399694290153483077644569099073152433278288269864602789864321139083506217095002597389863554277196742822248757586765752344220207573630569498825087968928162753848863396909959826280956121450994871701244516461260379029309120889086942028510640182154399457156805941872748998094254742173582401063677404595741785160829230135358081840096996372524230560855903700624271243416909004153690105933983835777939410970027753472000000000000000000000000000000000000000000000000000000000000000000000000000000000000000000000000000000000000000000000000000000000000000000000000000000000000000000000000000000000000000000000000000000000000000000000000000000000000000000000000000000000\n"
     ]
    }
   ],
   "source": [
    "def myfact(n):\n",
    "    if n <0:\n",
    "        print(\"error\")\n",
    "        return\n",
    "    if n==1:\n",
    "        return 1\n",
    "    elif n==2:\n",
    "        return 2\n",
    "    return n*myfact(n-1)\n",
    "\n",
    "print(myfact(4))\n",
    "print(myfact(5))\n",
    "print(myfact(1000))"
   ]
  },
  {
   "cell_type": "markdown",
   "id": "2f9d7545",
   "metadata": {},
   "source": [
    "1. 매개변수로 받은 n이 1이나 2이면 그숫자를 반환한다\n",
    "2. 만약 그이상이면 n*myfact(n-1)을해주어 재귀함수를 사용하여 팩토리얼을 구현해주었다."
   ]
  },
  {
   "cell_type": "markdown",
   "id": "4df00f9e",
   "metadata": {},
   "source": [
    "### (서술형) import string 과 from string import * 의 차이점을 설명하시오."
   ]
  },
  {
   "cell_type": "markdown",
   "id": "26aba4ab",
   "metadata": {},
   "source": [
    "기본적으로 기능은 모듈을 불러오는 것이다.\n",
    "\n",
    "import string은 string모듈을 불러오는것.\n",
    "\n",
    "from string import *은 string모듈에있는 기능(함수)들을 불러오는것이라고 할수 있다.\n",
    "\n",
    "즉, import string은 모듈을 불러오는 것이기에 string의 함수를 사용하고 싶으면 string.(함수)로 사용하여야 한다.\n",
    "\n",
    "from string import *은 string모듈을 불러오는것이 아닌 string모듈에 있는 모든 기능(함수)를 불러오는 것기에\n",
    "string.(함수)가 아닌 그냥 (함수)를 사용하면 사용이 되어진다."
   ]
  },
  {
   "cell_type": "markdown",
   "id": "7c20e601",
   "metadata": {},
   "source": [
    "### [Incremental Project 문제]\n",
    "#### 이전 Assignment 3의 마지막 문제는 웹 URL로 지정된 웹페이지를 문자열로 가져와 모든 HTML 태그 및 CSS와 Javascript를 제외한 순수 텍스트를 얻어내고 그 안에 존재하는 단어를 추출하여 각 단어들에 대해 출현빈도를 사전형태({'world': 2, 'hello': 1, 'python': 1})로 저장하여 출력하는 것이었다. 이번에는 Assignment 3를 확장하여 다음과 같은 조건을 만족하도록 구현하시오.\n",
    "#### 1) 다음 사이트에서 제시되는 불용어 (Stop words)를 참고하여 이전 숙제에서 구성했던 단어 사전에서 불용어들을 모두 제거하는 코드를 추가하시오.\n",
    "영어 불용어: http://www.lextek.com/manuals/onix/stopwords1.html\n",
    "\n",
    "한글 불용어: https://raw.githubusercontent.com/stopwords-iso/stopwords-ko/master/stopwords-ko.txt\n",
    "#### 2) 각 URL로 지정된 웹페이지의 HTML 소스를 파일로 저장하시오.\n",
    "URL이 http://URL 이라면 파일명은 URL.html 이다.\n",
    "예: URL이 http://www.cnn.com 이라면 파일명은 www.cnn.com.html 이다.\n",
    "#### 3) 단어의 출현빈도가 담긴 사전 객체를 위 HTML 소스 파일과 동일한 폴더에 파일로 저장하시오.\n",
    "파일입출력 (E-learning 13주차) 마지막에 학습한 pickle 모듈을 활용하시오.\n",
    "\n",
    "URL이 http://URL 이라면 사전 객체를 담고 있는 파일명은 URL.words_frequency.pickle 이다.\n",
    "\n",
    "예: URL이 http://www.cnn.com 이라면 파일명은 www.cnn.com.words_frequency.pickle 이다.\n",
    "#### 4) 최소 5개 이상의 웹 사이트 각각에 대한 HTML 소스 파일과 단어 출현빈도 파일을 저장하시오.\n",
    "즉, 5개의 웹 사이트에 대해 총 10개의 파일을 동일한 폴더에 생성하시오.\n",
    "\n",
    "[주의] 가능하면 웹사이트에 단어들이 많고 다루는 주제가 서로 다른 웹 사이트들로 선정하는 것 추천\n",
    "#### 5) 위 문제에서 저장한 모든 pickle 파일들을 객체로 다시 로드하여 본인이 저장하여 분석한 사이트들 각각에 대해서 가장 많이 출현한 단어 3개씩를 뽑아 제시하시오.\n",
    "반드시 pickle 모듈로 저장한 5개 이상의 pickle 파일들을 다시 5개 이상의 사전 객체로 로드 하는 코드가 추가되어야 함\n",
    "#### 6) 간단한 검색엔진 코딩 (Like Google!!!)\n",
    "사용자에게 임의의 검색어 (하나 또는 여러 단어로 구성) 를 입력받으시오.\n",
    "\n",
    "예:\n",
    "\n",
    "대한민국\n",
    "\n",
    "컴퓨터 공학\n",
    "\n",
    "맛있는 음식\n",
    "\n",
    "파이썬\n",
    "\n",
    "한기대 장점\n",
    "\n",
    "입력받은 검색어들에 대해서도 1)에서 제시하는 방법처럼 불용어 처리를 하여 정리\n",
    "\n",
    "입력 받은 검색어와 유사도(Similarity)가 높은 웹 사이트 기준으로 위 4)에서 미리 지정해 놓은 5개 이상의 웹 사이트 URL들을 일렬로 나열하여 출력하시오.\n",
    "\n",
    "검색어와 웹 사이트 간의 유사도는 본인이 스스로 정하시오.\n",
    "\n",
    "유사도를 정하는 최소한의 기준은 단어 출현 빈도를 기반으로 해야 하며, 이외의 본인이 생각하는 방안이 있으면 함께 사용해도 됨.\n",
    "\n",
    "유사도가 높은 웹 사이트가 상위에 출력되어야 함 (즉, 유사도 기준 내림 차순)\n",
    "\n",
    "유사도가 동일한 웹 사이트들에 대해서는 임의 배치함.\n",
    "\n",
    "#### 7) [주의] 필수사항\n",
    "위에서 만든 검색엔진 코딩은 매우 간단한 것이라 부족한 점이 많이 존재한다.\n",
    "본인이 생각하기에 상업적인 완성도 높은 검색 로봇/엔진이 되려면 어떤 기능들이 추가적으로 구현되어야 할지 최소 1가지 이상 제시하시오."
   ]
  },
  {
   "cell_type": "code",
   "execution_count": 99,
   "id": "368c3f2b",
   "metadata": {},
   "outputs": [],
   "source": [
    "import requests\n",
    "import string\n",
    "import pickle\n",
    "import os\n",
    "\n",
    "\n",
    "if not os.path.exists(\"dict\"):\n",
    "    os.mkdir(\"dict\")\n",
    "\n",
    "#불용어 리스트 만들기\n",
    "with open('bull.txt', 'r', encoding='utf-8') as f:\n",
    "    bull_word = f.readlines()\n",
    "    for i in range(0,len(bull_word)):\n",
    "        bull_word[i] = bull_word[i].strip()\n",
    "\n",
    "urls = ['http://www.nytimes.com', 'http://www.naver.com', 'https://www.ytn.co.kr' , 'https://www.hankyung.com', 'https://www.bloter.net']\n",
    "        \n",
    "for url in urls:\n",
    "    #소스코드 요청\n",
    "    req = requests.get(url)\n",
    "    source = req.text\n",
    "    \n",
    "    #파일이름 만들 준비\n",
    "    if'http://' in url:\n",
    "        furl = url.replace('http://', '')\n",
    "    elif 'https://' in url:\n",
    "        furl = url.replace('https://', '') \n",
    "        \n",
    "    #소스파일 담을 파일 생성 및 쓰기\n",
    "    with open(f'dict/{furl}.html', 'w', encoding = 'utf-8') as f:\n",
    "        f.write(source)\n",
    "    \n",
    "    #단어추출\n",
    "    check = 0\n",
    "    check_slash =0\n",
    "    total = \"\"\n",
    "    for i in range(len(source)):\n",
    "        if (source[i:i+7] == '<script' or source[i:i+6] == '<style') and check_slash == 0:\n",
    "                check_slash = 1\n",
    "        elif (source[i:i+9] == '</script>' or source[i:i+8] == '</style>') and check_slash == 1:\n",
    "                check_slash = 0\n",
    "\n",
    "        if check == 0:\n",
    "            if source[i] ==\"<\":\n",
    "                check =1\n",
    "            else:\n",
    "                if check_slash ==0:\n",
    "                    total += source[i]\n",
    "        else:\n",
    "            if source[i] == \">\":\n",
    "                check =0\n",
    "    li = total.split()\n",
    "    result = []\n",
    "    for i in li:\n",
    "        for punctuation in string.punctuation:\n",
    "            i = i.replace(punctuation, \"\")\n",
    "            \n",
    "        #불용어면 추가하지않고 건너뜀\n",
    "        if i.lower() in bull_word:\n",
    "            continue\n",
    "        result.append(i.lower())\n",
    "    result = list(filter(None, result))\n",
    "        \n",
    "    word_dic = {}\n",
    "    for i in result:\n",
    "        if i in word_dic:\n",
    "            word_dic[i] += 1\n",
    "        else:\n",
    "            word_dic[i]=1\n",
    "    \n",
    "    #빈도수를 내림차순으로 정렬\n",
    "    word_dic = dict(sorted(word_dic.items(), key = lambda x: x[1], reverse = True))\n",
    "    \n",
    "    with open(f'dict/{furl}.words_frequency.pickle', 'wb') as f:\n",
    "        pickle.dump(word_dic, f)"
   ]
  },
  {
   "cell_type": "markdown",
   "id": "17218f1f",
   "metadata": {},
   "source": [
    "1. os모듈을 사용하여 10개의 파일을 저장할 폴더를 생성해 주었다.\n",
    "2. 한글과 영어의 불용어들을 bull.txt파일에 저장하였는데 그것을 불러와 리스트에 저장해 주었다.(불용어 비교 및 제거를 위함)\n",
    "3. url 5개가 저장되어있는 곳에서 하나씩 불러와 소스코드를 받은뒤 소스코드를 url에따라 파일을 따로 하여 저장하도록 하였다. 왜인지는 모르겠지만 encoding 에러가 발생하여 encoding = utf-8을 달아 주었다.(검색한 바로는 기본적으로 파이썬이 유니코드로 코딩하여 한글은 깨진다고 하는것 같다)\n",
    "4. 소스코드에서 단어를 추출한뒤 리스트에 저장할때 불용어가 있다면 걸러서 추가하도록 소스를 만들었다.\n",
    "5. 단어의 빈도수를 체크한 딕셔너리를 파일명에 맞춰서 pickle모듈을 사용하여 저장하였다. 저장전에 빈도수를 기준으로 내림차순으로 정렬하였다. (pickle 모듈은 리스트나 딕셔너리형태같은 문자열이 아닌 데이터형식을 binary형식으로 저장한다)"
   ]
  },
  {
   "cell_type": "code",
   "execution_count": 100,
   "id": "4da1be96",
   "metadata": {},
   "outputs": [
    {
     "name": "stdout",
     "output_type": "stream",
     "text": [
      "사이트별 가장 많이 나온 단어 3개:\n",
      "www.nytimes.com   의 단어 : new     -> 27       york    -> 20       reading -> 5        \n",
      "www.naver.com     의 단어 : 전       -> 62       테크      -> 60       구독      -> 28       \n",
      "www.ytn.co.kr     의 단어 : ytn     -> 32       뉴스      -> 6        다시보기    -> 5        \n",
      "www.hankyung.com  의 단어 : 뉴스      -> 46       한경      -> 25       비디오     -> 16       \n",
      "www.bloter.net    의 단어 : 테크      -> 28       20211122-> 25       비즈니스    -> 18       \n"
     ]
    }
   ],
   "source": [
    "print(\"사이트별 가장 많이 나온 단어 3개:\")\n",
    "for url in urls:\n",
    "    if'http://' in url:\n",
    "        furl = url.replace('http://', '')\n",
    "    elif 'https://' in url:\n",
    "        furl = url.replace('https://', '') \n",
    "    with open(f'dict/{furl}.words_frequency.pickle', 'rb') as f:\n",
    "        data = pickle.load(f)\n",
    "        count = 0\n",
    "        print(f\"%-18s의 단어 :\"%(furl), end=' ')\n",
    "        for key, item in data.items():\n",
    "            print(\"%-8s-> %-8s\"%(key, item), end=' ')\n",
    "            count = count + 1\n",
    "            if(count == 3): break\n",
    "        print()"
   ]
  },
  {
   "cell_type": "markdown",
   "id": "dd25ff45",
   "metadata": {},
   "source": [
    "1. pickle모듈을 사용하여 저장했던 파일들을 불러왔다.\n",
    "2. 이전에 딕셔너리형태로 저장하였기에 딕셔너리형태로 불려온것을 보고 for문을 이용하여 key값과 value를 받았다.\n",
    "3. 가장많이 출현한 단어 3개만 출력하라 하였으므로 각 url당 3개씩 출력하도록 count를 이용하여 3개만 출력하도록 하였다."
   ]
  },
  {
   "cell_type": "code",
   "execution_count": 102,
   "id": "d118bed7",
   "metadata": {},
   "outputs": [
    {
     "name": "stdout",
     "output_type": "stream",
     "text": [
      "검색할 단어를 입력하세요 : new\n",
      "www.nytimes.com  :  유사도 ->  0.030439684329199548  웹사이트 비율 :  0.8870269133650578\n",
      "www.hankyung.com  :  유사도 ->  0.0016792611251049538  웹사이트 비율 :  0.04893446976737919\n",
      "www.ytn.co.kr  :  유사도 ->  0.0011750881316098707  웹사이트 비율 :  0.034242628374235376\n",
      "www.bloter.net  :  유사도 ->  0.0010224948875255625  웹사이트 비율 :  0.029795988493327517\n",
      "www.naver.com  :  유사도 ->  0.0  웹사이트 비율 :  0.0\n",
      "검색할 단어를 입력하세요 : 구독과 좋아요\n",
      "www.nytimes.com  :  유사도 ->  0.0  웹사이트 비율 :  0.0\n",
      "www.naver.com  :  유사도 ->  0.0  웹사이트 비율 :  0.0\n",
      "www.ytn.co.kr  :  유사도 ->  0.0  웹사이트 비율 :  0.0\n",
      "www.hankyung.com  :  유사도 ->  0.0  웹사이트 비율 :  0.0\n",
      "www.bloter.net  :  유사도 ->  0.0  웹사이트 비율 :  0.0\n",
      "검색할 단어를 입력하세요 : 네이버\n",
      "www.naver.com  :  유사도 ->  0.0023405500292568754  웹사이트 비율 :  0.64249253110803\n",
      "www.bloter.net  :  유사도 ->  0.0010224948875255625  웹사이트 비율 :  0.280679891529556\n",
      "www.hankyung.com  :  유사도 ->  0.000279876854184159  웹사이트 비율 :  0.07682757736241416\n",
      "www.nytimes.com  :  유사도 ->  0.0  웹사이트 비율 :  0.0\n",
      "www.ytn.co.kr  :  유사도 ->  0.0  웹사이트 비율 :  0.0\n",
      "검색할 단어를 입력하세요 : 구독\n",
      "www.naver.com  :  유사도 ->  0.008191925102399064  웹사이트 비율 :  0.9070336724147309\n",
      "www.hankyung.com  :  유사도 ->  0.0008396305625524769  웹사이트 비율 :  0.09296632758526899\n",
      "www.nytimes.com  :  유사도 ->  0.0  웹사이트 비율 :  0.0\n",
      "www.ytn.co.kr  :  유사도 ->  0.0  웹사이트 비율 :  0.0\n",
      "www.bloter.net  :  유사도 ->  0.0  웹사이트 비율 :  0.0\n",
      "검색할 단어를 입력하세요 : 유뷰브\n",
      "www.nytimes.com  :  유사도 ->  0.0  웹사이트 비율 :  0.0\n",
      "www.naver.com  :  유사도 ->  0.0  웹사이트 비율 :  0.0\n",
      "www.ytn.co.kr  :  유사도 ->  0.0  웹사이트 비율 :  0.0\n",
      "www.hankyung.com  :  유사도 ->  0.0  웹사이트 비율 :  0.0\n",
      "www.bloter.net  :  유사도 ->  0.0  웹사이트 비율 :  0.0\n",
      "검색할 단어를 입력하세요 : time\n",
      "www.nytimes.com  :  유사도 ->  0.002254791431792559  웹사이트 비율 :  1.0\n",
      "www.naver.com  :  유사도 ->  0.0  웹사이트 비율 :  0.0\n",
      "www.ytn.co.kr  :  유사도 ->  0.0  웹사이트 비율 :  0.0\n",
      "www.hankyung.com  :  유사도 ->  0.0  웹사이트 비율 :  0.0\n",
      "www.bloter.net  :  유사도 ->  0.0  웹사이트 비율 :  0.0\n",
      "검색할 단어를 입력하세요 : 테크 뉴스\n",
      "www.bloter.net  :  유사도 ->  0.02965235173824131  웹사이트 비율 :  0.43978985836148443\n",
      "www.naver.com  :  유사도 ->  0.017846693973083673  웹사이트 비율 :  0.264693845666244\n",
      "www.hankyung.com  :  유사도 ->  0.012874335292471313  웹사이트 비율 :  0.19094613960997195\n",
      "www.ytn.co.kr  :  유사도 ->  0.007050528789659225  웹사이트 비율 :  0.10457015636229955\n",
      "www.nytimes.com  :  유사도 ->  0.0  웹사이트 비율 :  0.0\n",
      "검색할 단어를 입력하세요 : \n",
      "www.nytimes.com  :  유사도 ->  0.0  웹사이트 비율 :  0.0\n",
      "www.naver.com  :  유사도 ->  0.0  웹사이트 비율 :  0.0\n",
      "www.ytn.co.kr  :  유사도 ->  0.0  웹사이트 비율 :  0.0\n",
      "www.hankyung.com  :  유사도 ->  0.0  웹사이트 비율 :  0.0\n",
      "www.bloter.net  :  유사도 ->  0.0  웹사이트 비율 :  0.0\n"
     ]
    }
   ],
   "source": [
    "import operator\n",
    "\n",
    "#url에 대한 입력한 단어의 가치\n",
    "def similiar(inp1, inp2):\n",
    "    total_point = 0\n",
    "    check_point = 0\n",
    "    for key, value in inp2.items():\n",
    "        total_point += value\n",
    "        if key in inp1:\n",
    "            check_point += value\n",
    "    return check_point/total_point\n",
    "        \n",
    "\n",
    "def search(words):\n",
    "    score = {}\n",
    "    total = 0;\n",
    "    for url in urls:\n",
    "        #파일 불러오기\n",
    "        if'http://' in url:\n",
    "            furl = url.replace('http://', '')\n",
    "        elif 'https://' in url:\n",
    "            furl = url.replace('https://', '') \n",
    "        with open(f'dict/{furl}.words_frequency.pickle', 'rb') as f:\n",
    "            data = pickle.load(f)\n",
    "            #가치 입력받기위한 함수 호출\n",
    "            point = similiar(words, data)\n",
    "            #비율 계산을 위한 결과 저장\n",
    "            score[furl] = point\n",
    "            total += point\n",
    "    #total이 0일경우 에러방지를 위해 total을 1로 설정\n",
    "    if total == 0:\n",
    "        total = 1\n",
    "    #결과를 point기준으로 내림차순 정렬\n",
    "    score_sorted= sorted(score.items(), key=operator.itemgetter(1), reverse=True)\n",
    "    #비율출력\n",
    "    for key, value in score_sorted:\n",
    "        print(key, \" :  유사도 -> \", value, \" 웹사이트 비율 : \", value/total)\n",
    "\n",
    "word = ' '\n",
    "while(word != ''):\n",
    "    word = input(\"검색할 단어를 입력하세요 : \")\n",
    "    if ' ' in word:\n",
    "        words = word.split()\n",
    "        tmp = []\n",
    "        #불단어 제거\n",
    "        for i in words:\n",
    "            if i in bull_word:\n",
    "                continue\n",
    "            tmp.append(i)\n",
    "    else:\n",
    "        if word in bull_word:\n",
    "            print(\"불용어 입니다. 다시 입력하세요 : \")\n",
    "            continue\n",
    "        tmp = [word, ]\n",
    "    search(tmp)"
   ]
  },
  {
   "cell_type": "markdown",
   "id": "8b6b5f4b",
   "metadata": {},
   "source": [
    "1. 먼저 사용자에게 단어를 입력받고 단어를 나눠준다.\n",
    "2. 단어가 불용어인지 확인하고 불용어면 제거한다.\n",
    "3. 단어들의 유사도를 비교하기 위해 search함수를 만들었다. search는 urls에 있는 url들이 가지고 있는 word_frequency파일을 읽어 url의 단어들과 유사도를 비교하기 위해 similiar함수를 호출하였다.\n",
    "4. similiar 함수에서는 url파일의 단어수를 가지고 있는 dict자료형에서 값을 받아 전체 가치를 받는다. 만약 찾고자 하는 단어가 파일의 단어에 있으면 파일이 가지고 있는 해당 단어의 빈도수만큼 가치를 갖는다.\n",
    "5. similiar함수는 마지막에 입력한 단어가 가지는 가치/전체가치를 반환한다.\n",
    "6. 마지막으로 search함수에서 url끼리 비율을 계산하고 유사도를 출력하도록 하였다."
   ]
  },
  {
   "cell_type": "markdown",
   "id": "51363b76",
   "metadata": {},
   "source": [
    "#### 부족한점\n",
    "자카드 알고리즘을 참고하여 빈도수에 비례하여 가치를 가지도록 하였다. 좀 더 검색사이트 같을려면 일단 사이트 데이터가 많아야 할것같다. 또한 단어들중에 사이트 주소같은것이 껴있어서 불필요하게 가치가 낮아지는게 아닌가라는 아쉬움이 남는다.\n",
    "\n",
    "#### 더나은 검색 엔진이 되기 위한 추가적인 기능\n",
    "무엇보다 많은 데이터가 필요하다가 생각된다. 데이터가 많으면 비교할 대상이 많아져 더 좋은 정보를 줄 확률이 높아지기 때문이다. 또한 기존의 사이트들이 가지고 있는 오타수정이라든가 사용자가 찾고자하는 동의어(의미가 같거나 비슷한)를 찾는 알고리즘이 필요하다고 생각된다."
   ]
  },
  {
   "cell_type": "markdown",
   "id": "8da80c26",
   "metadata": {},
   "source": [
    "#### 소감\n",
    "파일 입출력을 배우고 그것을 이용해서 로그인 서비스 구현, 웹페이지에 대한 소스코드를 바탕으로 검색엔진을 만들었다는 것이 매우 흥미로웠다.\n",
    "일반문제에서 어려웠던 부분은 딱히 없었지만 확실히 Increment 문제에서 검색엔진을 구현한다는 것이 나름 생각하게 만들었던것같다. 이에 어떻게 만들까 고민을 해보았다. 처음에는 자카드 유사도를 사용해서 할려고 하였으나 여기에 적용하기에는 내머리가 따라주지 않아 자카드와 비슷하게 나름대로 빈도 수에 따른 유사도를 구하도록하고 마지막에는 정렬하였다. 또 각각의 비율이 어떻게 되는지도 참고하기 위해 비율도 추가하였다.\n",
    "아쉬운점이 있다면 크롤링 하고자하는 일정 사이트가 정보보호 차원에서 막혀있어서 아쉬웠다."
   ]
  },
  {
   "cell_type": "code",
   "execution_count": null,
   "id": "6bf59391",
   "metadata": {},
   "outputs": [],
   "source": []
  }
 ],
 "metadata": {
  "kernelspec": {
   "display_name": "Python 3",
   "language": "python",
   "name": "python3"
  },
  "language_info": {
   "codemirror_mode": {
    "name": "ipython",
    "version": 3
   },
   "file_extension": ".py",
   "mimetype": "text/x-python",
   "name": "python",
   "nbconvert_exporter": "python",
   "pygments_lexer": "ipython3",
   "version": "3.8.8"
  }
 },
 "nbformat": 4,
 "nbformat_minor": 5
}
