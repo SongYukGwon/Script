{
 "cells": [
  {
   "cell_type": "markdown",
   "id": "66b69331",
   "metadata": {},
   "source": [
    "### 다음 6 개의 Expression에 대해 Evaluation 결과 값을 출력하고, 해당 결과가 나온 이유에 대해 설명하시오"
   ]
  },
  {
   "cell_type": "code",
   "execution_count": 3,
   "id": "670c4fcb",
   "metadata": {},
   "outputs": [
    {
     "name": "stdout",
     "output_type": "stream",
     "text": [
      "4\n"
     ]
    }
   ],
   "source": [
    "print(1 and 2 and 3 and 4)"
   ]
  },
  {
   "cell_type": "markdown",
   "id": "822a0ea1",
   "metadata": {},
   "source": [
    "#### 1,2,3이 True이면 다하나씩 거치면서 4까지 확인하여 반환하므로 4를 출력한다. 만약 and에서 False가 나온다면 뒤는 보지않고 그즉시 False를 반환한다.\n",
    "<br>\n",
    "<br>"
   ]
  },
  {
   "cell_type": "code",
   "execution_count": 9,
   "id": "6ebd52f5",
   "metadata": {},
   "outputs": [
    {
     "name": "stdout",
     "output_type": "stream",
     "text": [
      "1\n"
     ]
    }
   ],
   "source": [
    "print(1 or 2 or 3 or 4)"
   ]
  },
  {
   "cell_type": "markdown",
   "id": "19f696d9",
   "metadata": {},
   "source": [
    "#### or은 앞에게 True가 나오면 뒤는 보지않고 반환하므로 1에서 바로 반환하게 된다.\n",
    "<br>\n",
    "<br>"
   ]
  },
  {
   "cell_type": "code",
   "execution_count": 10,
   "id": "11248fc9",
   "metadata": {},
   "outputs": [
    {
     "name": "stdout",
     "output_type": "stream",
     "text": [
      "2\n"
     ]
    }
   ],
   "source": [
    "print(1 and 2 or 3 and 4)"
   ]
  },
  {
   "cell_type": "markdown",
   "id": "f499604a",
   "metadata": {},
   "source": [
    "#### 1 and 2에서 True가 나오므로 or뒤는 볼필요가 없어 2에서 반환하게 된다.\n",
    "<br/>\n",
    "<br/>"
   ]
  },
  {
   "cell_type": "code",
   "execution_count": 12,
   "id": "dcdccde9",
   "metadata": {},
   "outputs": [
    {
     "name": "stdout",
     "output_type": "stream",
     "text": [
      "2\n"
     ]
    }
   ],
   "source": [
    "print((1 and 2) or (3 and 4))"
   ]
  },
  {
   "cell_type": "markdown",
   "id": "ae7ce0fa",
   "metadata": {},
   "source": [
    "#### 이또한 (1 and 2)에서 2가 반환되고 이것이 True이기 때문에 뒤에 (3 and 4)는 볼 필요가 없어지기에 2가 출력된다.\n",
    "<br/>\n",
    "<br/>"
   ]
  },
  {
   "cell_type": "code",
   "execution_count": 16,
   "id": "527b4647",
   "metadata": {},
   "outputs": [
    {
     "name": "stdout",
     "output_type": "stream",
     "text": [
      "1\n"
     ]
    }
   ],
   "source": [
    "print(1 or 2 and 3 or 4)"
   ]
  },
  {
   "cell_type": "markdown",
   "id": "28264353",
   "metadata": {},
   "source": [
    "#### 기본 우선순위는 and, or 순이다. 잘은 모르겠지만 2 and 3 에서 True 로 3나온다 했을때 다시 왼쪽부터 계산해서 1이 나오는 것 같다.\n",
    "<br/>\n",
    "<br/>"
   ]
  },
  {
   "cell_type": "code",
   "execution_count": 17,
   "id": "22e9bfa9",
   "metadata": {},
   "outputs": [
    {
     "name": "stdout",
     "output_type": "stream",
     "text": [
      "3\n"
     ]
    }
   ],
   "source": [
    "print((1 or 2) and (3 or 4))"
   ]
  },
  {
   "cell_type": "markdown",
   "id": "5bd22b93",
   "metadata": {},
   "source": [
    "#### (1or 2) 에서 1이 반환 (3 or 4)에서 3 이반환 그러면 1 and 3 이되므로 and 뒤에있는 3이 반환된다.\n",
    "<br/>\n",
    "<br/>"
   ]
  },
  {
   "cell_type": "markdown",
   "id": "205a2e73",
   "metadata": {},
   "source": [
    "### 경로에 해당하는 문자열 1개를 입력 받아 그 안에 디렉토리 경로명과 파일명을 분리하여 리스트로 반환하는 함수 div_path(s)를 작성하시오"
   ]
  },
  {
   "cell_type": "code",
   "execution_count": 25,
   "id": "b665a08e",
   "metadata": {},
   "outputs": [
    {
     "name": "stdout",
     "output_type": "stream",
     "text": [
      "/home/chulsoo/test.txt\n",
      "['/home/chulsoo', 'test.txt']\n"
     ]
    }
   ],
   "source": [
    "s = input().split('/')\n",
    "result = []\n",
    "tmp = ''\n",
    "for i in s[1:-1]:\n",
    "    tmp += '/'\n",
    "    tmp += i\n",
    "result.append(tmp)\n",
    "result.append(s[-1])\n",
    "print(result)"
   ]
  },
  {
   "cell_type": "markdown",
   "id": "abe7c346",
   "metadata": {},
   "source": [
    "#### 문자열을 먼저 /을 기준으로 잘라주면 앞에빈 문자열 하나랑 끝에 파일명이 남게된다.\n",
    "#### 앞에 빈문자열과 파일명을 제외한것을 전부더해주고 append로 추가해준뒤 파일명을 추가해주면 된다.\n",
    "<br/>\n",
    "<br/>\n"
   ]
  },
  {
   "cell_type": "markdown",
   "id": "784a5e26",
   "metadata": {},
   "source": [
    "### 두 개의 리스트를 인자로 받아서 그 두 개의 리스트에 대한 '합집합'을 반환하는 함수 list_union(lista, listb)를 작성하시오"
   ]
  },
  {
   "cell_type": "code",
   "execution_count": 31,
   "id": "e54cf488",
   "metadata": {},
   "outputs": [
    {
     "name": "stdout",
     "output_type": "stream",
     "text": [
      "[1, 2, 3, 4]\n",
      "[-10, -5, -1, 0, 9, 9, 100]\n",
      "[0, 1, 2]\n"
     ]
    }
   ],
   "source": [
    "def list_union(lista, listb):\n",
    "    for i in lista:\n",
    "        if i in listb:\n",
    "            listb.remove(i)\n",
    "    listc = lista + listb\n",
    "    listc.sort()\n",
    "    return listc\n",
    "    \n",
    "print(list_union([1, 2, 3], [1, 2, 4]))\n",
    "print(list_union([-10, -5, 0, -1], [100, 9, 0, 9]))\n",
    "print(list_union([0, 1, 2], [0, 1, 2]))"
   ]
  },
  {
   "cell_type": "markdown",
   "id": "2f37ee99",
   "metadata": {},
   "source": [
    "#### lista에서 요소를 하나씩받아 그것이 listb에 있으면 삭제하는식으로 중복을 제거하고 listc에 더하고 sort로 정렬하여 반환해 주었다.\n",
    "<br/>\n",
    "<br/>\n",
    "<br/>"
   ]
  },
  {
   "cell_type": "markdown",
   "id": "9120b733",
   "metadata": {},
   "source": [
    "### 두 개의 리스트를 인자로 받아서 그 두 개의 리스트에 대한 '교집합'을 반환하는 함수 list_intersection(lista, listb)와 '차집합'을 반환하는 함수 list_difference(lista, listb)를 작성하시오. 모든 가정과 조건은 3번 문제와 동일하다."
   ]
  },
  {
   "cell_type": "code",
   "execution_count": 45,
   "id": "436e185f",
   "metadata": {},
   "outputs": [
    {
     "name": "stdout",
     "output_type": "stream",
     "text": [
      "교집합 =  [1, 2]\n",
      "lista - listb =  [3]\n",
      "listb - lista =  [4]\n",
      "교집합 =  [0]\n",
      "lista - listb =  [-10, -5, -1]\n",
      "listb - lista =  [9, 9, 100]\n",
      "교집합 =  [0, 1, 2]\n",
      "lista - listb =  []\n",
      "listb - lista =  []\n"
     ]
    }
   ],
   "source": [
    "def list_intersection(lista, listb):\n",
    "    listc = []\n",
    "    for i in lista:\n",
    "        if i in listb:\n",
    "            listc.append(i)\n",
    "    listc.sort()\n",
    "    return listc\n",
    "    \n",
    "def list_difference(lista, listb):\n",
    "    listc = list_intersection(lista, listb)\n",
    "    for i in listc:\n",
    "        if i in lista:\n",
    "            lista.remove(i)\n",
    "        if i in listb:\n",
    "            listb.remove(i)\n",
    "    lista.sort()\n",
    "    listb.sort()\n",
    "    print(\"lista - listb = \", lista)\n",
    "    print(\"listb - lista = \", listb)\n",
    "    \n",
    "print(\"교집합 = \",list_intersection([1, 2, 3], [1, 2, 4]))\n",
    "list_difference([1, 2, 3], [1, 2, 4])\n",
    "print(\"교집합 = \",list_intersection([-10, -5, 0, -1], [100, 9, 0, 9]))\n",
    "list_difference([-10, -5, 0, -1], [100, 9, 0, 9])\n",
    "print(\"교집합 = \",list_intersection([0, 1, 2], [0, 1, 2]))\n",
    "list_difference([0, 1, 2], [0, 1, 2])"
   ]
  },
  {
   "cell_type": "markdown",
   "id": "0a496451",
   "metadata": {},
   "source": [
    "#### 교집합은 lista에서 하나씩 꺼내어 겹치는게 있다면 listc에 저장하여 반환하는 식으로 하였다.\n",
    "#### 차집합은 lista와 listb의 교집합을 구한뒤 하나씩받아 lista와 listb에서 remove해주는 식으로 하였다.\n",
    "#### 차집합이라는 것은 A-B 나 B-A 두개의 경의수가 나오므로 반환하지않고 출력해주는 식으로 하였다.\n",
    "<br/>\n",
    "<br/>"
   ]
  },
  {
   "cell_type": "markdown",
   "id": "8ca88048",
   "metadata": {},
   "source": [
    "### 두 개의 양의 정수를 인자로 받아서 해당 범위안에 있는 소수(prime number)의 리스트를 출력하는 함수 print_primenumber(a, b)를 작성하시오."
   ]
  },
  {
   "cell_type": "code",
   "execution_count": 46,
   "id": "b21a7ff3",
   "metadata": {},
   "outputs": [
    {
     "name": "stdout",
     "output_type": "stream",
     "text": [
      "[2, 3, 5, 7]\n"
     ]
    }
   ],
   "source": [
    "def print_primenumber(a,b):\n",
    "    result = []\n",
    "    for i in range(2, b+1):\n",
    "        check = 0\n",
    "        for j in range(2,i):\n",
    "            if i%j == 0:\n",
    "                check = 1\n",
    "                break;\n",
    "        if check == 0:\n",
    "            result.append(i)\n",
    "    print(result)\n",
    "            \n",
    "print_primenumber(2,10)"
   ]
  },
  {
   "cell_type": "markdown",
   "id": "af1e7f28",
   "metadata": {},
   "source": [
    "#### 받을 수를 범위로 하여 해당 범위의 수를 하나씩받아 for문으로 해당수보다 작은수로 나머지를 다 구하여 0이되면 나누어 떨어지므로 소수인지 아닌지를 check변수로 확인해준다.\n",
    "#### check변수가 처음대로 0이라면 소수 1이라면 소수가 아닌걸로 판별하고, 소수라면 result에 append해주어 소수를 리스트에 저장후 마지막에 출력한다.\n",
    "<br/>\n",
    "<br/>"
   ]
  },
  {
   "cell_type": "markdown",
   "id": "00e8bcd9",
   "metadata": {},
   "source": [
    "### 웹 URL로 지정된 웹페이지를 문자열로 가져와 1) 모든 HTML 태그를 제외한 순수 텍스트 문자열만을 걸러내고, 2) 그 순수 텍스트 문자열 안에 존재하는 단어가 총 몇개인지 출력하는 프로그램을 작성하시오"
   ]
  },
  {
   "cell_type": "code",
   "execution_count": 151,
   "id": "52711b1a",
   "metadata": {},
   "outputs": [
    {
     "name": "stdout",
     "output_type": "stream",
     "text": [
      "단어수 :  4418\n"
     ]
    }
   ],
   "source": [
    "import requests\n",
    "req = requests.get('https://www.naver.com/')\n",
    "\n",
    "source = req.text\n",
    "\n",
    "check = 0\n",
    "check_slash =0\n",
    "total = \"\"\n",
    "for i in range(len(source)):\n",
    "    if (source[i:i+7] == '<script' or source[i:i+6] == '<style') and check_slash == 0:\n",
    "            check_slash = 1\n",
    "    elif (source[i:i+9] == '</script>' or source[i:i+8] == '</style>') and check_slash == 1:\n",
    "            check_slash = 0\n",
    "\n",
    "    if check == 0:\n",
    "        if source[i] ==\"<\":\n",
    "            check =1\n",
    "        else:\n",
    "            if check_slash ==0:\n",
    "                total += source[i]\n",
    "    else:\n",
    "        if source[i] == \">\":\n",
    "            check =0\n",
    "li = total.replace(\"\\t\", \"\")\n",
    "li = li.replace(\"@\", \"\")\n",
    "li = li.split('\\n')\n",
    "result = []\n",
    "for i in li:\n",
    "    if i == '':\n",
    "        continue\n",
    "    else:\n",
    "        result +=i.split(' ')\n",
    "result = list(filter(None, result))\n",
    "\n",
    "print(\"단어수 : \",len(result))"
   ]
  },
  {
   "cell_type": "code",
   "execution_count": 152,
   "id": "de21cced",
   "metadata": {},
   "outputs": [],
   "source": [
    "# print(result)"
   ]
  },
  {
   "cell_type": "code",
   "execution_count": 153,
   "id": "67ab51b3",
   "metadata": {},
   "outputs": [
    {
     "name": "stdout",
     "output_type": "stream",
     "text": [
      "단어수 :  306\n"
     ]
    }
   ],
   "source": [
    "import requests\n",
    "req = requests.get('https://www.acmicpc.net/')\n",
    "\n",
    "source = req.text\n",
    "\n",
    "check = 0\n",
    "check_slash =0\n",
    "total = \"\"\n",
    "for i in range(len(source)):\n",
    "    if (source[i:i+7] == '<script' or source[i:i+6] == '<style') and check_slash == 0:\n",
    "            check_slash = 1\n",
    "    elif (source[i:i+9] == '</script>' or source[i:i+8] == '</style>') and check_slash == 1:\n",
    "            check_slash = 0\n",
    "\n",
    "    if check == 0:\n",
    "        if source[i] ==\"<\":\n",
    "            check =1\n",
    "        else:\n",
    "            if check_slash ==0:\n",
    "                total += source[i]\n",
    "    else:\n",
    "        if source[i] == \">\":\n",
    "            check =0\n",
    "li = total.replace(\"\\t\", \"\")\n",
    "li = li.replace(\"@\", \"\")\n",
    "li = li.split('\\n')\n",
    "result = []\n",
    "for i in li:\n",
    "    if i == '':\n",
    "        continue\n",
    "    else:\n",
    "        result +=i.split(' ')\n",
    "result1 = list(filter(None, result))\n",
    "\n",
    "print(\"단어수 : \",len(result1))"
   ]
  },
  {
   "cell_type": "code",
   "execution_count": 154,
   "id": "50f52d2e",
   "metadata": {},
   "outputs": [],
   "source": [
    "# print(result1)"
   ]
  },
  {
   "cell_type": "markdown",
   "id": "7c55ce50",
   "metadata": {},
   "source": [
    "#### 먼저,  cse페이지가 안받아와져서 naver, 백준에서 html소스를 받았다.\n",
    "#### 일단 <>가 열리고 닫힌사이는 무조건 문자열이 아니므로 넘어갔다.\n",
    "#### 그러고 출력을 해보니 script와 style사이에는 html형식이 아닌 css나 그이외 형태의 언어가 들어가 태그필터가 먹히지 않았다.\n",
    "#### 그래서 해당 태그가 발견되면 마무리 태그가 발견될때까지 출력을 위한 변수에 문자를 추가하지 않는 걸로 했다.\n",
    "#### 그래서 문자열만을 받았지만 \\t @등 쓰레기 값이 섞여 있어 list의 replace를 이용하여 쓰래기값을 빈값으로 바꿔주었다.\n",
    "####  split을 이용하여 먼저 줄바꿈을 기준으로 나누어 주었고\n",
    "#### 다시 그줄들을 다확인하며 ''만 있으면 넘어가고 내용이 있다면 공백을 기준으로 result이름의 list에 넣어주었다.\n",
    "#### 하지만 none list들이 사라지지 않았고 list(filter())함수를 사용하여 list에 값이 없는것들을 걸러 주었다.\n",
    "#### 마지막으로 result의 길이를 출력하면 단어의 갯수가 나온다.\n",
    "<br/>\n",
    "<br/>\n",
    "<br/>\n",
    "<br/>"
   ]
  },
  {
   "cell_type": "markdown",
   "id": "fbdea8dd",
   "metadata": {},
   "source": [
    "#### 위의 일반 문제에서는 not and or 의 우선순위에 대해서 말고는 특별히 어렵다고 느낀것은 없었습니다. \n",
    "#### 마지막 Incremental Project에서 많은 시간을 소비하였고, 사실 시간가는줄 모르고 했습니다. \n",
    "#### 여러가지 시도를 하면서 list의 여러가지 함수와 numpy등 여러가지 패키지들을 시도하는데 사용해 볼 수 있어서 좋았습니다. \n",
    "#### 솔직히 모든 단어들을 가져 왔는지는 모르겠지만, naver url을 받아와서 하였는데 결과물을 보고 실시간으로 변하는 단어의 개수를 보며 뿌듯함을 느낄수 있었습니다.\n",
    "#### 그저 이론만을 위한 과제가 아닌 도전 할 수 있는 과제를 주셔서 감사합니다."
   ]
  },
  {
   "cell_type": "code",
   "execution_count": null,
   "id": "78cced21",
   "metadata": {},
   "outputs": [],
   "source": []
  }
 ],
 "metadata": {
  "kernelspec": {
   "display_name": "Python 3",
   "language": "python",
   "name": "python3"
  },
  "language_info": {
   "codemirror_mode": {
    "name": "ipython",
    "version": 3
   },
   "file_extension": ".py",
   "mimetype": "text/x-python",
   "name": "python",
   "nbconvert_exporter": "python",
   "pygments_lexer": "ipython3",
   "version": "3.8.8"
  }
 },
 "nbformat": 4,
 "nbformat_minor": 5
}
